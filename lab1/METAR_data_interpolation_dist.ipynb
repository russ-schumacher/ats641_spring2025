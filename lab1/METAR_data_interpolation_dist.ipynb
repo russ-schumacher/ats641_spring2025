{
 "cells": [
  {
   "cell_type": "markdown",
   "metadata": {},
   "source": [
    "\n",
    "# Temperature and Sea Level Pressure Interpolation\n",
    "\n",
    "Interpolate sea level pressure, as well as temperature and wind component data,\n",
    "to make a consistent looking analysis.\n",
    "\n",
    "Adapted from: https://unidata.github.io/MetPy/latest/examples/gridding/Wind_SLP_Interpolation.html\n"
   ]
  },
  {
   "cell_type": "markdown",
   "metadata": {},
   "source": [
    "[![Latest release](https://badgen.net/github/release/Naereen/Strapdown.js)](https://github.com/russ-schumacher/ats641_spring2025/tree/main/lab1)\n",
    "[![Open In Colab](https://colab.research.google.com/assets/colab-badge.svg)](https://colab.research.google.com/github/russ-schumacher/ats641_spring2025/blob/main/lab1/METAR_data_interpolation_dist.ipynb)"
   ]
  },
  {
   "cell_type": "code",
   "execution_count": null,
   "metadata": {},
   "outputs": [],
   "source": [
    "### if using colab, run this to install necessary packages. If running on a local machine, comment it out\n",
    "# !pip install cartopy pandas matplotlib metpy herbie-data"
   ]
  },
  {
   "cell_type": "code",
   "execution_count": null,
   "metadata": {},
   "outputs": [],
   "source": [
    "import cartopy.crs as ccrs\n",
    "import cartopy.feature as cfeature\n",
    "from matplotlib.colors import BoundaryNorm\n",
    "import matplotlib.pyplot as plt\n",
    "import numpy as np\n",
    "import pandas as pd\n",
    "\n",
    "from metpy.calc import wind_components\n",
    "from metpy.calc import reduce_point_density\n",
    "from metpy.cbook import get_test_data\n",
    "from metpy.interpolate import interpolate_to_grid, remove_nan_observations\n",
    "from metpy.plots import add_metpy_logo, current_weather, sky_cover, StationPlot\n",
    "from metpy.units import units\n",
    "from metpy.io import metar\n",
    "\n",
    "from herbie import Herbie\n",
    "import urllib.request\n",
    "\n",
    "#to_proj = ccrs.AlbersEqualArea(central_longitude=-97., central_latitude=38.)\n",
    "to_proj = ccrs.LambertConformal(central_longitude=-95, central_latitude=40,\n",
    "                             standard_parallels=[40])"
   ]
  },
  {
   "cell_type": "markdown",
   "metadata": {},
   "source": [
    "Read in data\n",
    "\n"
   ]
  },
  {
   "cell_type": "code",
   "execution_count": null,
   "metadata": {},
   "outputs": [],
   "source": [
    "## define the time we're plotting\n",
    "datetime = pd.Timestamp(2025, 1, 18, 0)  ## year, month, day, hour, (minute, second)"
   ]
  },
  {
   "cell_type": "code",
   "execution_count": null,
   "metadata": {},
   "outputs": [],
   "source": [
    "#metar_all = metar.parse_metar_file(\"metar_\"+datetime.strftime(\"%Y%m%d_%H%M\")+\".txt\")\n",
    "\n",
    "metar_url = \"https://raw.githubusercontent.com/russ-schumacher/ats641_spring2025/refs/heads/main/lab1/metar_\"+datetime.strftime(\"%Y%m%d_%H%M\")+\".txt\"\n",
    "urllib.request.urlretrieve(metar_url, \"metar_\"+datetime.strftime(\"%Y%m%d_%H%M\")+\".txt\")\n",
    "\n",
    "metar_all = metar.parse_metar_file(\"metar_\"+datetime.strftime(\"%Y%m%d_%H%M\")+\".txt\")\n",
    "\n",
    "# Drop rows with missing winds or temperature\n",
    "metar_all = metar_all.dropna(how='any', subset=['wind_direction', 'wind_speed', 'air_temperature'])"
   ]
  },
  {
   "cell_type": "markdown",
   "metadata": {},
   "source": [
    "Take a quick look at the data we're using:"
   ]
  },
  {
   "cell_type": "code",
   "execution_count": null,
   "metadata": {},
   "outputs": [],
   "source": [
    "metar_all"
   ]
  },
  {
   "cell_type": "markdown",
   "metadata": {},
   "source": [
    "This METAR dataset includes surface data from around the world, but the interpolation method can sometimes fail when getting close to the poles, etc. So we'll subset the data down to the general region of North America. "
   ]
  },
  {
   "cell_type": "code",
   "execution_count": null,
   "metadata": {},
   "outputs": [],
   "source": [
    "## subset to -50 to -150 longitude and 15-70 latitude \n",
    "metar_all = metar_all[(metar_all.longitude < -50) & (metar_all.longitude > -150) & (metar_all.latitude > 15) & (metar_all.latitude < 75)]\n"
   ]
  },
  {
   "cell_type": "markdown",
   "metadata": {},
   "source": [
    "This sample data has *way* too many stations to plot all of them. The number\n",
    "of stations plotted will be reduced using `reduce_point_density`."
   ]
  },
  {
   "cell_type": "code",
   "execution_count": null,
   "metadata": {},
   "outputs": [],
   "source": [
    "# Set up the map projection\n",
    "proj = ccrs.LambertConformal(central_longitude=-95, central_latitude=40,\n",
    "                             standard_parallels=[40])\n",
    "\n",
    "# Use the Cartopy map projection to transform station locations to the map and\n",
    "# then refine the number of stations plotted by setting a 220km radius\n",
    "point_locs = proj.transform_points(ccrs.PlateCarree(), metar_all['longitude'].values,\n",
    "                                   metar_all['latitude'].values)\n",
    "data = metar_all[reduce_point_density(point_locs, 220000.)]"
   ]
  },
  {
   "cell_type": "markdown",
   "metadata": {},
   "source": [
    "Now move on to the interpolation. First, project the lon/lat locations to our final projection\n",
    "\n"
   ]
  },
  {
   "cell_type": "code",
   "execution_count": null,
   "metadata": {},
   "outputs": [],
   "source": [
    "lon = data['longitude'].values\n",
    "lat = data['latitude'].values\n",
    "xp, yp, _ = to_proj.transform_points(ccrs.Geodetic(), lon, lat).T"
   ]
  },
  {
   "cell_type": "markdown",
   "metadata": {},
   "source": [
    "Remove all missing data from pressure\n",
    "\n"
   ]
  },
  {
   "cell_type": "code",
   "execution_count": null,
   "metadata": {},
   "outputs": [],
   "source": [
    "x_masked, y_masked, pressure = remove_nan_observations(xp, yp, data['air_pressure_at_sea_level'].values)"
   ]
  },
  {
   "cell_type": "markdown",
   "metadata": {},
   "source": [
    "Interpolate pressure using Cressman interpolation\n",
    "\n"
   ]
  },
  {
   "cell_type": "code",
   "execution_count": null,
   "metadata": {},
   "outputs": [],
   "source": [
    "slpgridx, slpgridy, slp = interpolate_to_grid(x_masked, y_masked, pressure,\n",
    "                                              interp_type='cressman', minimum_neighbors=1,\n",
    "                                              search_radius=400000, hres=100000)"
   ]
  },
  {
   "cell_type": "markdown",
   "metadata": {},
   "source": [
    "Get wind information and mask where either speed or direction is unavailable\n",
    "\n"
   ]
  },
  {
   "cell_type": "code",
   "execution_count": null,
   "metadata": {},
   "outputs": [],
   "source": [
    "wind_speed = (data['wind_speed'].values * units('m/s')).to('knots')\n",
    "wind_dir = data['wind_direction'].values * units.degree\n",
    "\n",
    "good_indices = np.where((~np.isnan(wind_dir)) & (~np.isnan(wind_speed)))\n",
    "\n",
    "x_masked = xp[good_indices]\n",
    "y_masked = yp[good_indices]\n",
    "wind_speed = wind_speed[good_indices]\n",
    "wind_dir = wind_dir[good_indices]"
   ]
  },
  {
   "cell_type": "markdown",
   "metadata": {},
   "source": [
    "Calculate u and v components of wind and then interpolate both.\n",
    "\n",
    "Both will have the same underlying grid so throw away grid returned from v interpolation.\n",
    "\n"
   ]
  },
  {
   "cell_type": "code",
   "execution_count": null,
   "metadata": {},
   "outputs": [],
   "source": [
    "u, v = wind_components(wind_speed, wind_dir)\n",
    "\n",
    "windgridx, windgridy, uwind = interpolate_to_grid(x_masked, y_masked, np.array(u),\n",
    "                                                  interp_type='cressman', search_radius=400000,\n",
    "                                                  hres=100000)\n",
    "\n",
    "_, _, vwind = interpolate_to_grid(x_masked, y_masked, np.array(v), interp_type='cressman',\n",
    "                                  search_radius=400000, hres=100000)"
   ]
  },
  {
   "cell_type": "markdown",
   "metadata": {},
   "source": [
    "Get temperature information\n",
    "\n"
   ]
  },
  {
   "cell_type": "code",
   "execution_count": null,
   "metadata": {},
   "outputs": [],
   "source": [
    "x_masked, y_masked, t = remove_nan_observations(xp, yp, data['air_temperature'].values)\n",
    "tempx, tempy, temp = interpolate_to_grid(x_masked, y_masked, t, interp_type='cressman',\n",
    "                                         minimum_neighbors=3, search_radius=400000, hres=35000)\n",
    "\n",
    "temp = np.ma.masked_where(np.isnan(temp), temp)"
   ]
  },
  {
   "cell_type": "markdown",
   "metadata": {},
   "source": [
    "Plot the surface map as before, but now plot the analyzed temperature and pressure fields on the map.\n",
    "\n"
   ]
  },
  {
   "cell_type": "code",
   "execution_count": null,
   "metadata": {},
   "outputs": [],
   "source": [
    "# Change the DPI of the resulting figure. Higher DPI drastically improves the\n",
    "# look of the text rendering.\n",
    "plt.rcParams['savefig.dpi'] = 255\n",
    "\n",
    "# Create the figure and an axes set to the projection.\n",
    "fig = plt.figure(figsize=(20, 10))\n",
    "#add_metpy_logo(fig, 1100, 300, size='large')\n",
    "ax = fig.add_subplot(1, 1, 1, projection=proj)\n",
    "\n",
    "# Add some various map elements to the plot to make it recognizable.\n",
    "#ax.add_feature(cfeature.LAND)\n",
    "#ax.add_feature(cfeature.OCEAN)\n",
    "#ax.add_feature(cfeature.LAKES)\n",
    "ax.add_feature(cfeature.COASTLINE)\n",
    "ax.add_feature(cfeature.STATES, linewidth=0.6, edgecolor='gray')\n",
    "ax.add_feature(cfeature.BORDERS)\n",
    "\n",
    "# Set plot bounds\n",
    "#ax.set_extent((-118, -73, 23, 50))\n",
    "ax.set_extent((-108,-70, 26, 58))\n",
    "\n",
    "#\n",
    "# Here's the actual station plot\n",
    "#\n",
    "\n",
    "# Start the station plot by specifying the axes to draw on, as well as the\n",
    "# lon/lat of the stations (with transform). We also the fontsize to 12 pt.\n",
    "stationplot = StationPlot(ax, data['longitude'].values, data['latitude'].values,\n",
    "                          clip_on=True, transform=ccrs.PlateCarree(), fontsize=9.5)\n",
    "\n",
    "# Plot the temperature and dew point to the upper and lower left, respectively, of\n",
    "# the center point. Each one uses a different color.\n",
    "stationplot.plot_parameter('NW', data['air_temperature'].values, color='red', fontweight='semibold')\n",
    "stationplot.plot_parameter('SW', data['dew_point_temperature'].values,\n",
    "                           color='darkgreen', fontweight='semibold')\n",
    "\n",
    "# A more complex example uses a custom formatter to control how the sea-level pressure\n",
    "# values are plotted. This uses the standard trailing 3-digits of the pressure value\n",
    "# in tenths of millibars.\n",
    "stationplot.plot_parameter('NE', data['air_pressure_at_sea_level'].values,\n",
    "                           formatter=lambda v: format(10 * v, '.0f')[-3:], fontweight='semibold')\n",
    "\n",
    "# Plot the cloud cover symbols in the center location. This uses the codes made above and\n",
    "# uses the `sky_cover` mapper to convert these values to font codes for the\n",
    "# weather symbol font.\n",
    "stationplot.plot_symbol('C', data['cloud_coverage'].values, sky_cover)\n",
    "\n",
    "# Same this time, but plot current weather to the left of center, using the\n",
    "# `current_weather` mapper to convert symbols to the right glyphs.\n",
    "stationplot.plot_symbol('W', data['current_wx1_symbol'].values, current_weather)\n",
    "\n",
    "# Add wind barbs\n",
    "stationplot.plot_barb(data['eastward_wind'].values, data['northward_wind'].values,\n",
    "                     length=6)\n",
    "\n",
    "# Also plot the actual text of the station id. Instead of cardinal directions,\n",
    "# plot further out by specifying a location of 2 increments in x and 0 in y.\n",
    "stationplot.plot_text((1.5, -1), data['station_id'].values, fontsize=8, color='dimgray')\n",
    "\n",
    "###########\n",
    "## now add analyzed MSLP contours\n",
    "cs = ax.contour(slpgridx, slpgridy, slp, colors='k', levels=list(range(960, 1048, 4)))\n",
    "ax.clabel(cs, inline=1, fontsize=12, fmt='%i', inline_spacing=10)\n",
    "\n",
    "## and 2-m temperature\n",
    "cs2 = ax.contour(tempx, tempy, temp, colors='r', levels=list(range(-30,30,5)), \n",
    "                 linewidths=1.)\n",
    "ax.clabel(cs2, inline=1, fontsize=12, fmt='%i', colors='r', inline_spacing=10)\n",
    "\n",
    "plt.title('METAR observations, MSLP, 2-m temperature', loc='left')\n",
    "plt.title(datetime.strftime(\"%H%M UTC %d %b %Y\"), loc='right')\n",
    "\n",
    "plt.show()"
   ]
  },
  {
   "cell_type": "code",
   "execution_count": null,
   "metadata": {},
   "outputs": [],
   "source": [
    "## save file:\n",
    "fig.savefig(\"sfc_analysis_simple_\"+datetime.strftime(\"%Y%m%d_%H%M\")+\".png\", \n",
    "            bbox_inches='tight', facecolor='white', transparent=False)"
   ]
  },
  {
   "cell_type": "markdown",
   "metadata": {},
   "source": [
    "### now, we'll see how this compares to the operational GFS analysis\n",
    "#### use herbie to get the needed GFS data at this time.\n",
    "#### herbie tutorial: https://herbie.readthedocs.io/en/stable/gallery/noaa_models/gfs.html"
   ]
  },
  {
   "cell_type": "code",
   "execution_count": null,
   "metadata": {},
   "outputs": [],
   "source": [
    "H = Herbie(datetime.strftime(\"%Y-%m-%d %H:%M\"), model=\"gfs\", product=\"pgrb2.0p25\", \n",
    "           fxx=0)"
   ]
  },
  {
   "cell_type": "markdown",
   "metadata": {},
   "source": [
    "### get just the fields we need here (2-m temperature, MSLP, 10-m wind components)"
   ]
  },
  {
   "cell_type": "code",
   "execution_count": null,
   "metadata": {},
   "outputs": [],
   "source": [
    "gfs_2m = H.xarray(\":TMP:2 m above ground\")\n",
    "gfs_mslp = H.xarray(\":MSLET:\")\n",
    "gfs_10m = H.xarray(\":10 m above ground\")\n",
    "\n",
    "lon2d, lat2d = np.meshgrid(gfs_2m.longitude, gfs_2m.latitude) ### set up meshgrid for speed of plotting"
   ]
  },
  {
   "cell_type": "code",
   "execution_count": null,
   "metadata": {},
   "outputs": [],
   "source": [
    "gfs_mslp"
   ]
  },
  {
   "cell_type": "markdown",
   "metadata": {},
   "source": [
    "### and plot them like we did before"
   ]
  },
  {
   "cell_type": "code",
   "execution_count": null,
   "metadata": {},
   "outputs": [],
   "source": [
    "# Create the figure and an axes set to the projection.\n",
    "fig = plt.figure(figsize=(20, 10))\n",
    "#add_metpy_logo(fig, 1100, 300, size='large')\n",
    "ax = fig.add_subplot(1, 1, 1, projection=to_proj)\n",
    "\n",
    "# Add some various map elements to the plot to make it recognizable.\n",
    "#ax.add_feature(cfeature.LAND)\n",
    "#ax.add_feature(cfeature.OCEAN)\n",
    "#ax.add_feature(cfeature.LAKES)\n",
    "ax.add_feature(cfeature.COASTLINE)\n",
    "ax.add_feature(cfeature.STATES, linewidth=0.6, edgecolor='gray')\n",
    "ax.add_feature(cfeature.BORDERS)\n",
    "\n",
    "# Set plot bounds\n",
    "ax.set_extent((-108,-70, 26, 58))\n",
    "\n",
    "## GFS MSLP contours\n",
    "cs = ax.contour(lon2d, lat2d, gfs_mslp.mslet.metpy.convert_units('hPa'), \n",
    "                colors='k', levels=list(range(960, 1048, 4)),\n",
    "               transform=ccrs.PlateCarree(), transform_first=True)\n",
    "ax.clabel(cs, inline=1, fontsize=12, fmt='%i', inline_spacing=10)\n",
    "\n",
    "## and 2-m temperature\n",
    "cs2 = ax.contour(lon2d, lat2d, gfs_2m.t2m.metpy.convert_units('degC'), \n",
    "                 colors='r', levels=list(range(-30,30,5)), \n",
    "                 linewidths=1., transform=ccrs.PlateCarree(), transform_first=True)\n",
    "ax.clabel(cs2, inline=1, fontsize=12, fmt='%i', colors='r', inline_spacing=10)\n",
    "\n",
    "plt.title('GFS MSLP and 2-m temperature', loc='left')\n",
    "plt.title(datetime.strftime(\"%H%M UTC %d %b %Y\"), loc='right')\n",
    "\n",
    "plt.show()"
   ]
  },
  {
   "cell_type": "code",
   "execution_count": null,
   "metadata": {},
   "outputs": [],
   "source": [
    "## save file:\n",
    "fig.savefig(\"gfs_sfc_analysis_\"+datetime.strftime(\"%Y%m%d_%H%M\")+\".png\", \n",
    "            bbox_inches='tight', facecolor='white', transparent=False)"
   ]
  },
  {
   "cell_type": "code",
   "execution_count": null,
   "metadata": {},
   "outputs": [],
   "source": []
  }
 ],
 "metadata": {
  "kernelspec": {
   "display_name": "Python 3 (ipykernel)",
   "language": "python",
   "name": "python3"
  },
  "language_info": {
   "codemirror_mode": {
    "name": "ipython",
    "version": 3
   },
   "file_extension": ".py",
   "mimetype": "text/x-python",
   "name": "python",
   "nbconvert_exporter": "python",
   "pygments_lexer": "ipython3",
   "version": "3.13.1"
  }
 },
 "nbformat": 4,
 "nbformat_minor": 4
}
